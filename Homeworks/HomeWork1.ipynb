{
 "cells": [
  {
   "cell_type": "code",
   "execution_count": 3,
   "metadata": {},
   "outputs": [
    {
     "name": "stdout",
     "output_type": "stream",
     "text": [
      "47 47 73 \n",
      "79 67 29 \n",
      "7 19 2 \n"
     ]
    }
   ],
   "source": [
    "import random\n",
    "def primeNumbersConstructer(a,b):  \n",
    "    \n",
    "    x=1000\n",
    "    \n",
    "    while x==1000:\n",
    "        kontrol = 0\n",
    "        c=int(random.randint(a,b))\n",
    "        \n",
    "        if c!=1:\n",
    "            for i in range(2,c):\n",
    "                if (c%i==0):  \n",
    "                    kontrol=kontrol+1  \n",
    "\n",
    "            if (kontrol != 0):\n",
    "               x=1000\n",
    "            else:\n",
    "               return c\n",
    "               break\n",
    "        else:\n",
    "            x=1000\n",
    "\n",
    "for j in range(3): \n",
    "  for k in range(3):\n",
    "        print(primeNumbersConstructer(1,100), end=\" \")    \n",
    "  print()"
   ]
  }
 ],
 "metadata": {
  "kernelspec": {
   "display_name": "Python 3",
   "language": "python",
   "name": "python3"
  },
  "language_info": {
   "codemirror_mode": {
    "name": "ipython",
    "version": 3
   },
   "file_extension": ".py",
   "mimetype": "text/x-python",
   "name": "python",
   "nbconvert_exporter": "python",
   "pygments_lexer": "ipython3",
   "version": "3.8.5"
  }
 },
 "nbformat": 4,
 "nbformat_minor": 4
}
